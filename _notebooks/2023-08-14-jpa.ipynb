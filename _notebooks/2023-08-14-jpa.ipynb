{
 "cells": [
  {
   "cell_type": "markdown",
   "metadata": {},
   "source": [
    "---\n",
    "comments: true\n",
    "layout: post\n",
    "title: Spring Data JPA\n",
    "description: How to use the JPA repository and create your own query methods\n",
    "---"
   ]
  },
  {
   "cell_type": "markdown",
   "metadata": {},
   "source": [
    "# Setup"
   ]
  },
  {
   "cell_type": "markdown",
   "metadata": {},
   "source": [
    "Within the mvc folder, create a new folder and give it a name. The new folder will hold the POJO (entity class), API controller, and JPA repository. You can name the files anything, but the convention is to include `JpaRepository` or `Repository` within the name. In this example, the JPA repository file is named `UserJpaRepository.java`.\n",
    "\n",
    "![]({{ site.baseurl }}/images/jpa-lesson-images/userJpaRepositoryFile.jpg)"
   ]
  },
  {
   "cell_type": "markdown",
   "metadata": {},
   "source": [
    "This blog will use a user database as an example. For reference, this is what the User POJO (`User.java`) looks like. Attributes of the user include the user's email, password, and name. Note that there are lots of annotations that can help enhance the features of your backend. "
   ]
  },
  {
   "cell_type": "code",
   "execution_count": null,
   "metadata": {
    "vscode": {
     "languageId": "java"
    }
   },
   "outputs": [],
   "source": [
    "@Data\n",
    "@AllArgsConstructor\n",
    "@NoArgsConstructor\n",
    "@Entity\n",
    "public class User {\n",
    "    @Id\n",
    "    @GeneratedValue(strategy = GenerationType.AUTO)\n",
    "    private Long id;\n",
    "\n",
    "    private String email;\n",
    "\n",
    "    private String password;\n",
    "   \n",
    "    private String firstName;\n",
    "\n",
    "    private String lastName;\n",
    "\n",
    "}"
   ]
  },
  {
   "cell_type": "markdown",
   "metadata": {},
   "source": [
    "<br>\n",
    "\n",
    "# Derived Queries"
   ]
  },
  {
   "cell_type": "markdown",
   "metadata": {},
   "source": [
    "Derived queries are simple methods such as `findBy`, `readBy`, `getBy`, etc. Spring Data translates the derived queries into the JPQL query, making things easier for you. \n",
    "\n",
    "To create a derived queries, open the JPA repository file. The file looks similar to this:"
   ]
  },
  {
   "cell_type": "code",
   "execution_count": null,
   "metadata": {
    "vscode": {
     "languageId": "java"
    }
   },
   "outputs": [],
   "source": [
    "public interface UserJpaRepository extends JpaRepository<User, Long> {\n",
    "}"
   ]
  },
  {
   "cell_type": "markdown",
   "metadata": {},
   "source": [
    "One thing to note is that the generic (ex: `<User, Long>`) takes in two type parameters. The first is the entity type, in this case, `User`. The second is the type of the ID found in the POJO (since ID was declared as `private Long id;` in `User.java`, the second type parameter is `Long`)."
   ]
  },
  {
   "cell_type": "markdown",
   "metadata": {},
   "source": [
    "This is what the user table looks like:\n",
    "\n",
    "![]({{ site.baseurl }}/images/jpa-lesson-images/userTable.jpg)"
   ]
  },
  {
   "cell_type": "markdown",
   "metadata": {},
   "source": [
    "You can create derived queries within the interface. Let's say we want to obtain a list of users based on their last name. The `findBy` method can be used to achieve this:"
   ]
  },
  {
   "cell_type": "code",
   "execution_count": null,
   "metadata": {
    "vscode": {
     "languageId": "java"
    }
   },
   "outputs": [],
   "source": [
    "public interface UserJpaRepository extends JpaRepository<User, Long> {\n",
    "    List<User> findByLastName(String lastName);\n",
    "}"
   ]
  },
  {
   "cell_type": "markdown",
   "metadata": {},
   "source": [
    "`findBy<Attribute>` finds the column that is associated with the attribute. For example, when Spring sees `findByLastName`, it will look at the column that is associated with `LastName`. Note that SQL tables and Java have different naming conventions. When declaring a variable in Java, an uppercase letter is used to symbolize a space (ex: `lastName` for last name). In an SQL table's column names, spaces are separated by a \"_\". \n",
    "\n",
    "For example, the user table's column has `first_name` and `last_name`, not `firstName` and `lastName`. This is important to differentiate, an example of where this will be needed will be covered later. \n",
    "\n",
    "![]({{ site.baseurl }}/images/jpa-lesson-images/columnName.jpg)\n",
    "\n",
    "In this case, the return type of the method is `List<User>`. This is because there can be multiple User objects that have the last name we are looking for, so a list of users needs to be returned. \n",
    "\n",
    "`findByLastName` tells Spring to look at the `last_name` column in the user database. Spring will then return the users that have the requested last name in a list. Something to note here is that the first letter of the attribute is capitalized. In this case, the \"l\" in `findByLastName` is capitalized. This tells Spring to look for the attribute `lastName`. The Spring Data JPA [documentation](https://docs.spring.io/spring-data/jpa/docs/current/reference/html/#repositories.query-methods.query-property-expressions) provides an interesting read on how Spring determines the attribute in the query method. "
   ]
  },
  {
   "cell_type": "markdown",
   "metadata": {},
   "source": [
    " - What is JPA\n",
    " - JPA relation w/ ORM\n",
    " - Troubleshooting JPA"
   ]
  },
  {
   "cell_type": "code",
   "execution_count": null,
   "metadata": {},
   "outputs": [],
   "source": []
  }
 ],
 "metadata": {
  "language_info": {
   "name": "python"
  },
  "orig_nbformat": 4
 },
 "nbformat": 4,
 "nbformat_minor": 2
}
