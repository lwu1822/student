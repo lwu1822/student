{
 "cells": [
  {
   "cell_type": "markdown",
   "metadata": {},
   "source": [
    "---\n",
    "comments: true\n",
    "layout: post\n",
    "title: JPA Repository\n",
    "description: How to use the JPA repository and create your own query methods\n",
    "---"
   ]
  },
  {
   "cell_type": "markdown",
   "metadata": {},
   "source": [
    "Within the mvc folder, create a new folder and give it a name. The new folder will hold the POJO (entity class), API controller, and JPA repository. \n",
    "\n",
    "![]({{ site.baseurl }}/images/jpa-lesson-images/userJpaRepositoryFile.jpg)"
   ]
  },
  {
   "cell_type": "markdown",
   "metadata": {},
   "source": [
    " - What is JPA\n",
    " - JPA relation w/ ORM\n",
    " - Troubleshooting JPA"
   ]
  },
  {
   "cell_type": "code",
   "execution_count": null,
   "metadata": {},
   "outputs": [],
   "source": []
  }
 ],
 "metadata": {
  "language_info": {
   "name": "python"
  },
  "orig_nbformat": 4
 },
 "nbformat": 4,
 "nbformat_minor": 2
}
