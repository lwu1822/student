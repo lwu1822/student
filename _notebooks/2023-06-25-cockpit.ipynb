{
 "cells": [
  {
   "attachments": {},
   "cell_type": "markdown",
   "metadata": {},
   "source": [
    "---\n",
    "comments: true\n",
    "layout: post\n",
    "title: Setting up Cockpit\n",
    "description: Setting up Cockpit\n",
    "---"
   ]
  },
  {
   "attachments": {},
   "cell_type": "markdown",
   "metadata": {},
   "source": [
    "# Install Cockpit"
   ]
  },
  {
   "cell_type": "code",
   "execution_count": null,
   "metadata": {
    "vscode": {
     "languageId": "shellscript"
    }
   },
   "outputs": [],
   "source": [
    "sudo apt update\n",
    "sudo apt install cockpit"
   ]
  },
  {
   "attachments": {},
   "cell_type": "markdown",
   "metadata": {},
   "source": [
    "Start the Cockpit service"
   ]
  },
  {
   "cell_type": "code",
   "execution_count": null,
   "metadata": {
    "vscode": {
     "languageId": "shellscript"
    }
   },
   "outputs": [],
   "source": [
    "sudo systemctl start cockpit"
   ]
  },
  {
   "attachments": {},
   "cell_type": "markdown",
   "metadata": {},
   "source": [
    "# Accessing\n",
    "\n",
    "Cockpit runs on port 9090. This port needs to be allowed on the EC2 instance. Click on \"Security Groups\" in the left sidebar: \n",
    "\n",
    "![]({{ site.baseurl }}/images/ip.jpg)\n",
    "\n",
    "Next, search for your security group. Click the check box next to the group name, scroll down, and click on \"Inbound rules\". Click on \"Edit inbound rules\", and add a rule that allows \"Port range\" of 9090 and \"Source type\" of Anywhere-IPv4.\n",
    "<br>\n",
    "\n",
    "Access Cockpit with the link: `<EC2 IP address>:9090`. There are a variety of ways to find the IP address of the instance. One way is to locate the IP address under \"Public IPv4 address\" on the \"Instances\" page:\n",
    "\n",
    "![]({{ site.baseurl }}/images/ip.jpg)\n",
    "\n",
    "In this case, the IP address of the instance is 3.145.69.15. Accessing http://3.145.69.15:9090 shows the Cockpit login screen:\n",
    "\n",
    "![]({{ site.baseurl }}/images/cockpitHomepage.jpg)\n",
    "\n",
    "<br>\n",
    "Login with the same username and password used to login to the EC2 instance."
   ]
  },
  {
   "attachments": {},
   "cell_type": "markdown",
   "metadata": {},
   "source": [
    "# Configure subdomain\n",
    "\n",
    "1. Go to AWS Route 53 -> Hosted zone -> nighthawkcodingsociety.com\n",
    "\n",
    "2. Click on \"Create record\"\n",
    "\n",
    "3. Configure a subdomain, keep the \"Record type\" as \"A\", and add the IP address of the instance in the \"Value\" section.\n",
    "\n",
    "<br>\n",
    "\n",
    "Now you can access Cockpit at `<subdomain>:9090`."
   ]
  },
  {
   "attachments": {},
   "cell_type": "markdown",
   "metadata": {},
   "source": [
    "# Change Cockpit port number\n",
    "\n",
    "Create the file /etc/systemd/system/cockpit.socket.d/listen.conf\n",
    "\n",
    "Check if the directory /etc/systemd/system/cockpit.socket.d/ exists. If not, type:\n",
    "\n",
    "```bash\n",
    "sudo mkdir /etc/systemd/system/cockpit.socket.d\n",
    "```\n",
    "\n",
    "Then, create and edit the `listen.conf` file. \n",
    "\n",
    "```bash\n",
    "sudo nano /etc/systemd/system/cockpit.socket.d/listen.conf\n",
    "```\n",
    "\n",
    "Add the following lines into the file:\n",
    "\n",
    "```\n",
    "[Socket]\n",
    "ListenStream=\n",
    "ListenStream=<your port here>\n",
    "```\n",
    "\n",
    "You can change the port to 443 (if using HTTPS) or 80 (if using HTTP). This way, you can access Cockpit through a URL that doesn't need a port (ex: http://cockpit.nighthawkcodingsociety.com/ )\n",
    "\n",
    "Afterwards, run:\n",
    "\n",
    "```bash\n",
    "sudo systemctl daemon-reload\n",
    "sudo systemctl restart cockpit.socket\n",
    "```\n",
    "\n"
   ]
  },
  {
   "attachments": {},
   "cell_type": "markdown",
   "metadata": {},
   "source": [
    "# To be continued\n",
    "\n",
    "Things to research/add:\n",
    "\n",
    "* Make the domain use HTTPS\n",
    "* Cockpit features\n"
   ]
  }
 ],
 "metadata": {
  "language_info": {
   "name": "python"
  },
  "orig_nbformat": 4
 },
 "nbformat": 4,
 "nbformat_minor": 2
}
