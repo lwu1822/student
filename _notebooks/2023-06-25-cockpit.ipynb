{
 "cells": [
  {
   "attachments": {},
   "cell_type": "markdown",
   "metadata": {},
   "source": [
    "---\n",
    "comments: true\n",
    "layout: post\n",
    "title: Setting up Cockpit\n",
    "description: Setting up Cockpit\n",
    "---"
   ]
  },
  {
   "attachments": {},
   "cell_type": "markdown",
   "metadata": {},
   "source": [
    "# Overview\n",
    "\n",
    "Cockpit is a tool that provides a GUI interface on the web. It allows an administrator to manage applications and services running on the server. While Linux configurations are mostly done through a command line, Cockpit provides a helpful visualization for features such as CPU and memory utilization. Cockpit also provides a terminal on the web interface, making it helpful if you need to access the server remotely. "
   ]
  },
  {
   "attachments": {},
   "cell_type": "markdown",
   "metadata": {},
   "source": [
    "# Install Cockpit"
   ]
  },
  {
   "cell_type": "code",
   "execution_count": null,
   "metadata": {
    "vscode": {
     "languageId": "shellscript"
    }
   },
   "outputs": [],
   "source": [
    "sudo apt update\n",
    "sudo apt install cockpit"
   ]
  },
  {
   "attachments": {},
   "cell_type": "markdown",
   "metadata": {},
   "source": [
    "Start the Cockpit service"
   ]
  },
  {
   "cell_type": "code",
   "execution_count": null,
   "metadata": {
    "vscode": {
     "languageId": "shellscript"
    }
   },
   "outputs": [],
   "source": [
    "sudo systemctl start cockpit"
   ]
  },
  {
   "attachments": {},
   "cell_type": "markdown",
   "metadata": {},
   "source": [
    "# Accessing\n",
    "\n",
    "Cockpit runs on port 9090. This port needs to be allowed on the EC2 instance. Click on \"Security Groups\" in the left sidebar: \n",
    "\n",
    "![]({{ site.baseurl }}/images/securityGroups.jpg)\n",
    "\n",
    "Next, search for your security group. Click the check box next to the group name, scroll down, and click on \"Inbound rules\". Click on \"Edit inbound rules\", and add a rule that allows \"Port range\" of 9090 and \"Source type\" of Anywhere-IPv4.\n",
    "\n",
    "![]({{ site.baseurl }}/images/editRules.jpg)\n",
    "\n",
    "<br>\n",
    "\n",
    "Access Cockpit with the link: `<EC2 IP address>:9090`. There are a variety of ways to find the IP address of the instance. One way is to locate the IP address under \"Public IPv4 address\" on the \"Instances\" page:\n",
    "\n",
    "![]({{ site.baseurl }}/images/ip.jpg)\n",
    "\n",
    "In this case, the IP address of the instance is 3.145.69.15. Accessing http://3.145.69.15:9090 shows the Cockpit login screen:\n",
    "\n",
    "![]({{ site.baseurl }}/images/cockpitHomepage.jpg)\n",
    "\n",
    "<br>\n",
    "Login with the same username and password used to login to the EC2 instance."
   ]
  },
  {
   "attachments": {},
   "cell_type": "markdown",
   "metadata": {},
   "source": [
    "# Configure subdomain\n",
    "\n",
    "1. Go to AWS Route 53 -> Hosted zone -> nighthawkcodingsociety.com\n",
    "\n",
    "2. Click on \"Create record\"\n",
    "\n",
    "3. Configure a subdomain, keep the \"Record type\" as \"A\", and add the IP address of the instance in the \"Value\" section.\n",
    "\n",
    "<br>\n",
    "\n",
    "Now you can access Cockpit at `<subdomain>:9090`."
   ]
  },
  {
   "attachments": {},
   "cell_type": "markdown",
   "metadata": {},
   "source": [
    "# Nginx\n",
    "\n",
    "Install Nginx to configure reverse proxy for Cockpit:"
   ]
  },
  {
   "cell_type": "code",
   "execution_count": null,
   "metadata": {
    "vscode": {
     "languageId": "shellscript"
    }
   },
   "outputs": [],
   "source": [
    "sudo apt install nginx "
   ]
  },
  {
   "attachments": {},
   "cell_type": "markdown",
   "metadata": {},
   "source": [
    "Create an nginx file in `/etc/nginx/sites-available/<your file name>` and add the following lines for Cockpit:\n",
    "\n",
    "```\n",
    "server {\n",
    "    server_name    cockpit.nighthawkcodingsociety.com;\n",
    "\n",
    "    location / {\n",
    "        # Required to proxy the connection to Cockpit\n",
    "        proxy_pass https://127.0.0.1:9090;\n",
    "        proxy_set_header Host $host;\n",
    "        proxy_set_header X-Forwarded-Proto $scheme;\n",
    "\n",
    "        # Required for web sockets to function\n",
    "        proxy_http_version 1.1;\n",
    "        proxy_buffering off;\n",
    "        proxy_set_header Upgrade $http_upgrade;\n",
    "        proxy_set_header Connection \"upgrade\";\n",
    "\n",
    "        # Pass ETag header from Cockpit to clients.\n",
    "        # See: https://github.com/cockpit-project/cockpit/issues/5239\n",
    "        gzip off;\n",
    "    }\n",
    "}\n",
    "```"
   ]
  },
  {
   "attachments": {},
   "cell_type": "markdown",
   "metadata": {},
   "source": [
    "Create a certificate for the website. "
   ]
  },
  {
   "cell_type": "code",
   "execution_count": null,
   "metadata": {
    "vscode": {
     "languageId": "shellscript"
    }
   },
   "outputs": [],
   "source": [
    "# Update to latest version of snapd\n",
    "sudo snap install core\n",
    "sudo snap refresh core\n",
    "\n",
    "# Install Certbot\n",
    "sudo snap install --classic certbot\n",
    "\n",
    "# Allow certbot to run\n",
    "sudo ln -s /snap/bin/certbot /usr/bin/certbot\n",
    "\n",
    "# Make Certbot edit Nginx configuration to enable HTTPS\n",
    "sudo certbot --nginx\n",
    "\n",
    "# Restart Nginx\n",
    "sudo systemctl restart nginx"
   ]
  },
  {
   "attachments": {},
   "cell_type": "markdown",
   "metadata": {},
   "source": [
    "# Cockpit Navigation \n",
    "\n",
    "The left navigation bar in Cockpit presents a few options that you can select:\n",
    "\n",
    "## Overview\n",
    "\n",
    "The overview section provides a summary of health, usage, system, and configuration information. Click on \"View details and history\" to check CPU, memory, and network  settings. \n",
    "\n",
    "## Logs\n",
    "\n",
    "These provide information about the system, such as a failed login. Logs can be filtered based on criteria such as time or priority. \n",
    "\n",
    "\n",
    "## Storage\n",
    "\n",
    "See disk read and write settings and storage logs. \n",
    "\n",
    "## Networking\n",
    "\n",
    "This portion shows the network traffic of the server and interface information. VLANs and bridges can also be added here. \n",
    "\n",
    "## Accounts\n",
    "\n",
    "This setting allows the administrator to create and manage accounts. You can click on a user to edit user settings, such as changing the password and adding SSH keys. \n",
    "\n",
    "## Services\n",
    "\n",
    "Click on a service to view its settings. A service can be reloaded, restarted, or stopped by clicking on the three dots. The dropdown under \"Show relationships\" includes information such as a service's dependencies and when it starts in relation with other services (what services start before and after this service)\n"
   ]
  },
  {
   "attachments": {},
   "cell_type": "markdown",
   "metadata": {},
   "source": [
    "\n",
    "## Software Updates\n",
    "\n",
    "If you are running Ubuntu 17.10 or later, a \"Loading available updates failed\" error message will appear. This is because Ubuntu changed the network management from network-manager to netplan.io, which has not been updated in Cockpit. A way to fix this is to change netplan's configuration file to manage one interface with network-manager. \n"
   ]
  },
  {
   "cell_type": "code",
   "execution_count": null,
   "metadata": {
    "vscode": {
     "languageId": "shellscript"
    }
   },
   "outputs": [],
   "source": [
    "sudo nano /etc/netplan/50-cloud-init.yaml"
   ]
  },
  {
   "attachments": {},
   "cell_type": "markdown",
   "metadata": {},
   "source": [
    "Next, add the following line under `network:`\n",
    "\n",
    "```\n",
    "renderer: NetworkManager\n",
    "```\n",
    "\n",
    "Then, execute \n",
    "```bash \n",
    "sudo netplan try\n",
    "```\n",
    "\n",
    "Refresh Cockpit, and the \"Software Updates\" page should work. Updates can now be installed. "
   ]
  },
  {
   "attachments": {},
   "cell_type": "markdown",
   "metadata": {},
   "source": [
    "## Terminal\n",
    "\n",
    "A command line interface that is the same as the machine's terminal on AWS EC2. "
   ]
  },
  {
   "attachments": {},
   "cell_type": "markdown",
   "metadata": {},
   "source": [
    "# Configuring Cockpit\n",
    "\n",
    "## Update hostname and system time\n",
    "\n",
    "Go to Overview -> Configuration -> Click on \"edit\" next to \"Hostname\" and configure a hostname for the server. \n",
    "\n",
    "Click on the time next to \"System time\" to set the time zone. \n",
    "\n",
    "## User account settings\n",
    "\n",
    "Go to Accounts -> Click on \"Create new account\" and fill out the boxes \n",
    "\n",
    "After the user is created, click on the user. You can check \"Server administrator\" to give the user `sudo` privileges. \n",
    "\n",
    "You can also configure account expiration and password expiration settings by clicking on \"edit\" next to the two settings. \n",
    "\n",
    "<br>\n",
    "\n",
    "To test the new user account created, logout, and then login with the new user credentials. If the user has administrative privileges, you can click on the button that says \"Limited access\" at the top right corner to gain those privileges. \n",
    "\n",
    "**Note**: If the user was not configured as a \"Server administrator\" and tried to gain admin privileges by clicking the button, the attempt will fail and will be logged. You can view the log by clicking on \"Logs\" in the sidebar:\n",
    "\n",
    "![]({{ site.baseurl }}/images/logs.jpg)\n",
    "\n",
    "So even when you clicked on the button as the wrong user, the attempt will still fail and be logged."
   ]
  }
 ],
 "metadata": {
  "language_info": {
   "name": "python"
  },
  "orig_nbformat": 4
 },
 "nbformat": 4,
 "nbformat_minor": 2
}
