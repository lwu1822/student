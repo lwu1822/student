{
 "cells": [
  {
   "attachments": {},
   "cell_type": "markdown",
   "metadata": {},
   "source": [
    "---\n",
    "comments: true\n",
    "layout: post\n",
    "title: Setting up Cockpit\n",
    "description: Setting up Cockpit\n",
    "---"
   ]
  },
  {
   "attachments": {},
   "cell_type": "markdown",
   "metadata": {},
   "source": [
    "# Install Cockpit"
   ]
  },
  {
   "cell_type": "code",
   "execution_count": null,
   "metadata": {
    "vscode": {
     "languageId": "shellscript"
    }
   },
   "outputs": [],
   "source": [
    "sudo apt update\n",
    "sudo apt install cockpit"
   ]
  },
  {
   "attachments": {},
   "cell_type": "markdown",
   "metadata": {},
   "source": [
    "Start the Cockpit service"
   ]
  },
  {
   "cell_type": "code",
   "execution_count": null,
   "metadata": {
    "vscode": {
     "languageId": "shellscript"
    }
   },
   "outputs": [],
   "source": [
    "sudo systemctl start cockpit"
   ]
  },
  {
   "attachments": {},
   "cell_type": "markdown",
   "metadata": {},
   "source": [
    "# Accessing\n",
    "\n",
    "Cockpit runs on port 9090. This port needs to be allowed on the EC2 instance. Click on \"Security Groups\" in the left sidebar: \n",
    "\n",
    "![]({{ site.baseurl }}/images/securityGroups.jpg)\n",
    "\n",
    "Next, search for your security group. Click the check box next to the group name, scroll down, and click on \"Inbound rules\". Click on \"Edit inbound rules\", and add a rule that allows \"Port range\" of 9090 and \"Source type\" of Anywhere-IPv4.\n",
    "\n",
    "![]({{ site.baseurl }}/images/editRules.jpg)\n",
    "\n",
    "<br>\n",
    "\n",
    "Access Cockpit with the link: `<EC2 IP address>:9090`. There are a variety of ways to find the IP address of the instance. One way is to locate the IP address under \"Public IPv4 address\" on the \"Instances\" page:\n",
    "\n",
    "![]({{ site.baseurl }}/images/ip.jpg)\n",
    "\n",
    "In this case, the IP address of the instance is 3.145.69.15. Accessing http://3.145.69.15:9090 shows the Cockpit login screen:\n",
    "\n",
    "![]({{ site.baseurl }}/images/cockpitHomepage.jpg)\n",
    "\n",
    "<br>\n",
    "Login with the same username and password used to login to the EC2 instance."
   ]
  },
  {
   "attachments": {},
   "cell_type": "markdown",
   "metadata": {},
   "source": [
    "# Configure subdomain\n",
    "\n",
    "1. Go to AWS Route 53 -> Hosted zone -> nighthawkcodingsociety.com\n",
    "\n",
    "2. Click on \"Create record\"\n",
    "\n",
    "3. Configure a subdomain, keep the \"Record type\" as \"A\", and add the IP address of the instance in the \"Value\" section.\n",
    "\n",
    "<br>\n",
    "\n",
    "Now you can access Cockpit at `<subdomain>:9090`."
   ]
  },
  {
   "attachments": {},
   "cell_type": "markdown",
   "metadata": {},
   "source": [
    "# Nginx\n",
    "\n",
    "Install Nginx to configure reverse proxy for Cockpit:"
   ]
  },
  {
   "cell_type": "code",
   "execution_count": null,
   "metadata": {
    "vscode": {
     "languageId": "shellscript"
    }
   },
   "outputs": [],
   "source": [
    "sudo apt install nginx "
   ]
  },
  {
   "attachments": {},
   "cell_type": "markdown",
   "metadata": {},
   "source": [
    "Create an nginx file in `/etc/nginx/sites-available/<your file name>` and add the following lines for Cockpit:\n",
    "\n",
    "```\n",
    "server {\n",
    "    server_name    cockpit.nighthawkcodingsociety.com;\n",
    "\n",
    "    location / {\n",
    "        # Required to proxy the connection to Cockpit\n",
    "        proxy_pass https://127.0.0.1:9090;\n",
    "        proxy_set_header Host $host;\n",
    "        proxy_set_header X-Forwarded-Proto $scheme;\n",
    "\n",
    "        # Required for web sockets to function\n",
    "        proxy_http_version 1.1;\n",
    "        proxy_buffering off;\n",
    "        proxy_set_header Upgrade $http_upgrade;\n",
    "        proxy_set_header Connection \"upgrade\";\n",
    "\n",
    "        # Pass ETag header from Cockpit to clients.\n",
    "        # See: https://github.com/cockpit-project/cockpit/issues/5239\n",
    "        gzip off;\n",
    "    }\n",
    "}\n",
    "```"
   ]
  },
  {
   "attachments": {},
   "cell_type": "markdown",
   "metadata": {},
   "source": [
    "Create a certificate for the website. "
   ]
  },
  {
   "cell_type": "code",
   "execution_count": null,
   "metadata": {
    "vscode": {
     "languageId": "shellscript"
    }
   },
   "outputs": [],
   "source": [
    "# Update to latest version of snapd\n",
    "sudo snap install core\n",
    "sudo snap refresh core\n",
    "\n",
    "# Install Certbot\n",
    "sudo snap install --classic certbot\n",
    "\n",
    "# Allow certbot to run\n",
    "sudo ln -s /snap/bin/certbot /usr/bin/certbot\n",
    "\n",
    "# Make Certbot edit Nginx configuration to enable HTTPS\n",
    "sudo certbot --nginx\n",
    "\n",
    "# Restart Nginx\n",
    "sudo systemctl restart nginx"
   ]
  },
  {
   "attachments": {},
   "cell_type": "markdown",
   "metadata": {},
   "source": [
    "# To be continued\n",
    "\n",
    "Things to research/add:\n",
    "\n",
    "* Cockpit features"
   ]
  }
 ],
 "metadata": {
  "language_info": {
   "name": "python"
  },
  "orig_nbformat": 4
 },
 "nbformat": 4,
 "nbformat_minor": 2
}
